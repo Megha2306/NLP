{
 "cells": [
  {
   "cell_type": "code",
   "execution_count": null,
   "metadata": {
    "execution": {
     "iopub.execute_input": "2024-04-10T06:02:26.040274Z",
     "iopub.status.busy": "2024-04-10T06:02:26.039917Z",
     "iopub.status.idle": "2024-04-10T06:02:40.620108Z",
     "shell.execute_reply": "2024-04-10T06:02:40.619131Z",
     "shell.execute_reply.started": "2024-04-10T06:02:26.040225Z"
    }
   },
   "outputs": [],
   "source": [
    "import pandas as pd \n",
    "import numpy as np \n",
    "import nltk \n",
    "nltk.download('punkt')\n",
    "from nltk import word_tokenize , sent_tokenize\n",
    "from sklearn.model_selection import train_test_split\n",
    "\n",
    "import tensorflow as tf \n",
    "import tensorflow.keras as keras \n",
    "from tensorflow.keras.layers import Dense , LSTM , Embedding , Dropout\n",
    "from keras import Sequential \n",
    "from tensorflow.keras.preprocessing.text import Tokenizer\n",
    "from tensorflow.keras.preprocessing.sequence import pad_sequences"
   ]
  },
  {
   "cell_type": "code",
   "execution_count": null,
   "metadata": {
    "execution": {
     "iopub.execute_input": "2024-04-10T06:03:06.454526Z",
     "iopub.status.busy": "2024-04-10T06:03:06.453595Z",
     "iopub.status.idle": "2024-04-10T06:03:06.482673Z",
     "shell.execute_reply": "2024-04-10T06:03:06.481929Z",
     "shell.execute_reply.started": "2024-04-10T06:03:06.454489Z"
    }
   },
   "outputs": [],
   "source": [
    "data1 = pd.read_csv(r\"/kaggle/input/content-generation/cloze_test_test__winter2018-cloze_test_ALL_test - 1.csv\")\n",
    "#data2 = pd.read_csv(r\"/kaggle/input/content-generation/cloze_test_val__winter2018-cloze_test_ALL_val - 1 - 1.csv\")"
   ]
  },
  {
   "cell_type": "code",
   "execution_count": null,
   "metadata": {
    "execution": {
     "iopub.execute_input": "2024-04-10T06:03:07.113217Z",
     "iopub.status.busy": "2024-04-10T06:03:07.112813Z",
     "iopub.status.idle": "2024-04-10T06:03:07.118150Z",
     "shell.execute_reply": "2024-04-10T06:03:07.117134Z",
     "shell.execute_reply.started": "2024-04-10T06:03:07.113182Z"
    }
   },
   "outputs": [],
   "source": [
    "def getsentences(dataframe):\n",
    "    \n",
    "    input_sentences = dataframe['InputSentence1'] + dataframe['InputSentence2'] + dataframe['InputSentence3'] + dataframe['InputSentence4'] \n",
    "    \n",
    "    return input_sentences , dataframe['RandomFifthSentenceQuiz1'] , dataframe['RandomFifthSentenceQuiz2']"
   ]
  },
  {
   "cell_type": "code",
   "execution_count": null,
   "metadata": {
    "execution": {
     "iopub.execute_input": "2024-04-10T06:03:07.766330Z",
     "iopub.status.busy": "2024-04-10T06:03:07.765838Z",
     "iopub.status.idle": "2024-04-10T06:03:07.771207Z",
     "shell.execute_reply": "2024-04-10T06:03:07.770212Z",
     "shell.execute_reply.started": "2024-04-10T06:03:07.766296Z"
    }
   },
   "outputs": [],
   "source": [
    "def preprocess(text):\n",
    "    \n",
    "    text = text.lower()\n",
    "    text = text.strip()\n",
    "    \n",
    "    sentences = sent_tokenize(text)\n",
    "    #words = []\n",
    "    #for sentence in sentences:\n",
    "     #   word_list = word_tokenize(sentence)\n",
    "      #  words += word_list \n",
    "    \n",
    "    return sentences"
   ]
  },
  {
   "cell_type": "code",
   "execution_count": null,
   "metadata": {
    "execution": {
     "iopub.execute_input": "2024-04-10T06:17:53.476321Z",
     "iopub.status.busy": "2024-04-10T06:17:53.475614Z",
     "iopub.status.idle": "2024-04-10T06:17:53.481339Z",
     "shell.execute_reply": "2024-04-10T06:17:53.480328Z",
     "shell.execute_reply.started": "2024-04-10T06:17:53.476283Z"
    }
   },
   "outputs": [],
   "source": [
    "def proc2(y):\n",
    "    y__ = []\n",
    "    for i in y:\n",
    "        for j in i.split():\n",
    "            if j not in y__:\n",
    "                y__.append(j)\n",
    "    \n",
    "    return y__"
   ]
  },
  {
   "cell_type": "code",
   "execution_count": null,
   "metadata": {
    "execution": {
     "iopub.execute_input": "2024-04-10T06:03:08.300249Z",
     "iopub.status.busy": "2024-04-10T06:03:08.299571Z",
     "iopub.status.idle": "2024-04-10T06:03:08.308959Z",
     "shell.execute_reply": "2024-04-10T06:03:08.307914Z",
     "shell.execute_reply.started": "2024-04-10T06:03:08.300218Z"
    }
   },
   "outputs": [],
   "source": [
    "input_df1 , out1_1 , out2_1 = getsentences(data1)\n",
    "#input_df2 , out1_2 , out2_2 = getsentences(data2)"
   ]
  },
  {
   "cell_type": "code",
   "execution_count": null,
   "metadata": {
    "execution": {
     "iopub.execute_input": "2024-04-10T06:03:11.226054Z",
     "iopub.status.busy": "2024-04-10T06:03:11.225165Z",
     "iopub.status.idle": "2024-04-10T06:03:11.344257Z",
     "shell.execute_reply": "2024-04-10T06:03:11.343521Z",
     "shell.execute_reply.started": "2024-04-10T06:03:11.226016Z"
    }
   },
   "outputs": [],
   "source": [
    "input_df1['words'] = input_df1.apply(preprocess)\n",
    "#input_df2['words'] = input_df2.apply(preprocess)"
   ]
  },
  {
   "cell_type": "code",
   "execution_count": null,
   "metadata": {
    "execution": {
     "iopub.execute_input": "2024-04-10T06:03:11.610826Z",
     "iopub.status.busy": "2024-04-10T06:03:11.609998Z",
     "iopub.status.idle": "2024-04-10T06:03:11.718548Z",
     "shell.execute_reply": "2024-04-10T06:03:11.717632Z",
     "shell.execute_reply.started": "2024-04-10T06:03:11.610795Z"
    }
   },
   "outputs": [],
   "source": [
    "out1_1[\"words\"] = out1_1.apply(preprocess)\n",
    "#out1_2[\"words\"] = out1_2.apply(preprocess)\n",
    "\n",
    "out2_1[\"words\"] = out2_1.apply(preprocess)\n",
    "#out2_2[\"words\"] = out2_2.apply(preprocess)\n"
   ]
  },
  {
   "cell_type": "code",
   "execution_count": null,
   "metadata": {
    "execution": {
     "iopub.execute_input": "2024-04-10T06:03:12.039196Z",
     "iopub.status.busy": "2024-04-10T06:03:12.038831Z",
     "iopub.status.idle": "2024-04-10T06:03:12.043307Z",
     "shell.execute_reply": "2024-04-10T06:03:12.042403Z",
     "shell.execute_reply.started": "2024-04-10T06:03:12.039166Z"
    }
   },
   "outputs": [],
   "source": [
    "input_list = []\n",
    "output_list = []"
   ]
  },
  {
   "cell_type": "code",
   "execution_count": null,
   "metadata": {
    "execution": {
     "iopub.execute_input": "2024-04-10T06:03:12.425390Z",
     "iopub.status.busy": "2024-04-10T06:03:12.424665Z",
     "iopub.status.idle": "2024-04-10T06:03:12.431513Z",
     "shell.execute_reply": "2024-04-10T06:03:12.430602Z",
     "shell.execute_reply.started": "2024-04-10T06:03:12.425357Z"
    }
   },
   "outputs": [],
   "source": [
    "for words in input_df1['words']:\n",
    "    input_list.append(words)\n",
    "\n",
    "#for words in input_df2['words']:\n",
    " #   input_list.append(words)\n",
    "\n",
    "for words in out1_1['words']:\n",
    "    input_list.append(words)\n",
    "\n",
    "#for words in out1_2['words']:\n",
    "  #  input_list.append(words)\n",
    "\n",
    "\n",
    "#for words in out2_1['words']:\n",
    " #   input_list.append(words)\n",
    "\n",
    "#for words in out2_2['words']:\n",
    "    #input_list.append(words)"
   ]
  },
  {
   "cell_type": "code",
   "execution_count": null,
   "metadata": {
    "execution": {
     "iopub.execute_input": "2024-04-10T06:03:12.816737Z",
     "iopub.status.busy": "2024-04-10T06:03:12.816374Z",
     "iopub.status.idle": "2024-04-10T06:03:14.437813Z",
     "shell.execute_reply": "2024-04-10T06:03:14.437006Z",
     "shell.execute_reply.started": "2024-04-10T06:03:12.816709Z"
    }
   },
   "outputs": [],
   "source": [
    "tokenizer = Tokenizer()\n",
    "tokenizer.fit_on_texts([word_tokenize(i[0]) for i in input_list] )\n",
    "sequences = tokenizer.texts_to_sequences([word_tokenize(i[0]) for i in input_list])"
   ]
  },
  {
   "cell_type": "code",
   "execution_count": null,
   "metadata": {
    "execution": {
     "iopub.execute_input": "2024-04-10T06:03:14.439604Z",
     "iopub.status.busy": "2024-04-10T06:03:14.439318Z",
     "iopub.status.idle": "2024-04-10T06:03:14.446994Z",
     "shell.execute_reply": "2024-04-10T06:03:14.446122Z",
     "shell.execute_reply.started": "2024-04-10T06:03:14.439580Z"
    }
   },
   "outputs": [],
   "source": [
    "sequences[0]"
   ]
  },
  {
   "cell_type": "code",
   "execution_count": null,
   "metadata": {
    "execution": {
     "iopub.execute_input": "2024-04-10T06:03:14.448613Z",
     "iopub.status.busy": "2024-04-10T06:03:14.448209Z",
     "iopub.status.idle": "2024-04-10T06:03:14.457346Z",
     "shell.execute_reply": "2024-04-10T06:03:14.456514Z",
     "shell.execute_reply.started": "2024-04-10T06:03:14.448583Z"
    }
   },
   "outputs": [],
   "source": [
    "vocab_size = len(tokenizer.word_index) + 1\n",
    "max_len = 100"
   ]
  },
  {
   "cell_type": "code",
   "execution_count": null,
   "metadata": {
    "execution": {
     "iopub.execute_input": "2024-04-10T06:03:14.460242Z",
     "iopub.status.busy": "2024-04-10T06:03:14.459502Z",
     "iopub.status.idle": "2024-04-10T06:03:15.122726Z",
     "shell.execute_reply": "2024-04-10T06:03:15.121721Z",
     "shell.execute_reply.started": "2024-04-10T06:03:14.460210Z"
    }
   },
   "outputs": [],
   "source": [
    "embedding_dim = 100\n",
    "model = Sequential([\n",
    "    Embedding(input_dim=vocab_size, output_dim=embedding_dim),\n",
    "    LSTM(64, return_sequences=True),\n",
    "    LSTM(64 , return_sequences = True),\n",
    "    Dense(vocab_size, activation='softmax')\n",
    "])"
   ]
  },
  {
   "cell_type": "code",
   "execution_count": null,
   "metadata": {
    "execution": {
     "iopub.execute_input": "2024-04-10T06:03:15.124237Z",
     "iopub.status.busy": "2024-04-10T06:03:15.123925Z",
     "iopub.status.idle": "2024-04-10T06:03:15.128990Z",
     "shell.execute_reply": "2024-04-10T06:03:15.127968Z",
     "shell.execute_reply.started": "2024-04-10T06:03:15.124212Z"
    }
   },
   "outputs": [],
   "source": [
    "dataframe = data1.copy()"
   ]
  },
  {
   "cell_type": "code",
   "execution_count": null,
   "metadata": {
    "execution": {
     "iopub.execute_input": "2024-04-10T06:03:15.130573Z",
     "iopub.status.busy": "2024-04-10T06:03:15.130219Z",
     "iopub.status.idle": "2024-04-10T06:03:15.140710Z",
     "shell.execute_reply": "2024-04-10T06:03:15.139819Z",
     "shell.execute_reply.started": "2024-04-10T06:03:15.130542Z"
    }
   },
   "outputs": [],
   "source": [
    "x = dataframe['InputSentence1'] + dataframe['InputSentence2'] + dataframe['InputSentence3'] + dataframe['InputSentence4'] \n",
    "y = dataframe['RandomFifthSentenceQuiz1']"
   ]
  },
  {
   "cell_type": "code",
   "execution_count": null,
   "metadata": {
    "execution": {
     "iopub.execute_input": "2024-04-10T06:03:15.142822Z",
     "iopub.status.busy": "2024-04-10T06:03:15.142486Z",
     "iopub.status.idle": "2024-04-10T06:03:15.156325Z",
     "shell.execute_reply": "2024-04-10T06:03:15.155547Z",
     "shell.execute_reply.started": "2024-04-10T06:03:15.142798Z"
    }
   },
   "outputs": [],
   "source": [
    "x_train , x_test , y_train , y_test = train_test_split(x , y , test_size = 0.2 , random_state = 42)"
   ]
  },
  {
   "cell_type": "code",
   "execution_count": null,
   "metadata": {
    "execution": {
     "iopub.execute_input": "2024-04-10T06:03:15.159585Z",
     "iopub.status.busy": "2024-04-10T06:03:15.159346Z",
     "iopub.status.idle": "2024-04-10T06:03:15.164971Z",
     "shell.execute_reply": "2024-04-10T06:03:15.164055Z",
     "shell.execute_reply.started": "2024-04-10T06:03:15.159564Z"
    }
   },
   "outputs": [],
   "source": [
    "x_train_list = []\n",
    "x_test_list = []\n",
    "y_train_list = []\n",
    "y_test_list = []"
   ]
  },
  {
   "cell_type": "code",
   "execution_count": null,
   "metadata": {
    "execution": {
     "iopub.execute_input": "2024-04-10T06:03:15.501265Z",
     "iopub.status.busy": "2024-04-10T06:03:15.500893Z",
     "iopub.status.idle": "2024-04-10T06:03:15.506320Z",
     "shell.execute_reply": "2024-04-10T06:03:15.505374Z",
     "shell.execute_reply.started": "2024-04-10T06:03:15.501233Z"
    }
   },
   "outputs": [],
   "source": [
    "for i in x_train:\n",
    "    x_train_list.append([i])"
   ]
  },
  {
   "cell_type": "code",
   "execution_count": null,
   "metadata": {
    "execution": {
     "iopub.execute_input": "2024-04-10T06:03:15.916820Z",
     "iopub.status.busy": "2024-04-10T06:03:15.916489Z",
     "iopub.status.idle": "2024-04-10T06:03:15.921394Z",
     "shell.execute_reply": "2024-04-10T06:03:15.920436Z",
     "shell.execute_reply.started": "2024-04-10T06:03:15.916795Z"
    }
   },
   "outputs": [],
   "source": [
    "for i in x_test:\n",
    "    x_test_list.append([i])"
   ]
  },
  {
   "cell_type": "code",
   "execution_count": null,
   "metadata": {
    "execution": {
     "iopub.execute_input": "2024-04-10T06:03:16.287893Z",
     "iopub.status.busy": "2024-04-10T06:03:16.287238Z",
     "iopub.status.idle": "2024-04-10T06:03:16.294289Z",
     "shell.execute_reply": "2024-04-10T06:03:16.293136Z",
     "shell.execute_reply.started": "2024-04-10T06:03:16.287859Z"
    }
   },
   "outputs": [],
   "source": [
    "for i in y_train:\n",
    "    y_train_list.append([i])"
   ]
  },
  {
   "cell_type": "code",
   "execution_count": null,
   "metadata": {
    "execution": {
     "iopub.execute_input": "2024-04-10T06:03:16.642414Z",
     "iopub.status.busy": "2024-04-10T06:03:16.641739Z",
     "iopub.status.idle": "2024-04-10T06:03:16.646511Z",
     "shell.execute_reply": "2024-04-10T06:03:16.645553Z",
     "shell.execute_reply.started": "2024-04-10T06:03:16.642380Z"
    }
   },
   "outputs": [],
   "source": [
    "for i in y_test:\n",
    "    y_test_list.append([i])"
   ]
  },
  {
   "cell_type": "code",
   "execution_count": null,
   "metadata": {
    "execution": {
     "iopub.execute_input": "2024-04-10T06:03:16.810293Z",
     "iopub.status.busy": "2024-04-10T06:03:16.809671Z",
     "iopub.status.idle": "2024-04-10T06:03:17.641248Z",
     "shell.execute_reply": "2024-04-10T06:03:17.640277Z",
     "shell.execute_reply.started": "2024-04-10T06:03:16.810262Z"
    }
   },
   "outputs": [],
   "source": [
    "x_train_seq = tokenizer.texts_to_sequences([word_tokenize(i[0]) for i in x_train_list])\n",
    "x_test_seq = tokenizer.texts_to_sequences([word_tokenize(i[0]) for i in x_test_list])\n",
    "\n",
    "y_train_seq = tokenizer.texts_to_sequences([word_tokenize(i[0]) for i in y_train_list])\n",
    "y_test_seq = tokenizer.texts_to_sequences([word_tokenize(i[0]) for i in y_test_list])\n"
   ]
  },
  {
   "cell_type": "code",
   "execution_count": null,
   "metadata": {
    "execution": {
     "iopub.execute_input": "2024-04-10T06:03:17.643522Z",
     "iopub.status.busy": "2024-04-10T06:03:17.643178Z",
     "iopub.status.idle": "2024-04-10T06:03:17.648143Z",
     "shell.execute_reply": "2024-04-10T06:03:17.647137Z",
     "shell.execute_reply.started": "2024-04-10T06:03:17.643491Z"
    }
   },
   "outputs": [],
   "source": [
    "max_pad = 100"
   ]
  },
  {
   "cell_type": "code",
   "execution_count": null,
   "metadata": {
    "execution": {
     "iopub.execute_input": "2024-04-10T06:03:17.649661Z",
     "iopub.status.busy": "2024-04-10T06:03:17.649308Z",
     "iopub.status.idle": "2024-04-10T06:03:17.682844Z",
     "shell.execute_reply": "2024-04-10T06:03:17.681984Z",
     "shell.execute_reply.started": "2024-04-10T06:03:17.649633Z"
    }
   },
   "outputs": [],
   "source": [
    "x_train_seq_padded = pad_sequences(x_train_seq ,  maxlen = max_pad)\n",
    "x_test_seq_padded = pad_sequences(x_test_seq ,  maxlen = max_pad)\n",
    "\n",
    "y_train_seq_padded = pad_sequences(y_train_seq ,  maxlen = max_pad)\n",
    "y_test_seq_padded = pad_sequences(y_test_seq ,  maxlen = max_pad)"
   ]
  },
  {
   "cell_type": "code",
   "execution_count": null,
   "metadata": {
    "execution": {
     "iopub.execute_input": "2024-04-10T06:03:17.684861Z",
     "iopub.status.busy": "2024-04-10T06:03:17.684602Z",
     "iopub.status.idle": "2024-04-10T06:03:17.700963Z",
     "shell.execute_reply": "2024-04-10T06:03:17.699954Z",
     "shell.execute_reply.started": "2024-04-10T06:03:17.684838Z"
    }
   },
   "outputs": [],
   "source": [
    "x_train_seq_padded[1]"
   ]
  },
  {
   "cell_type": "code",
   "execution_count": null,
   "metadata": {
    "execution": {
     "iopub.execute_input": "2024-04-10T06:03:17.786042Z",
     "iopub.status.busy": "2024-04-10T06:03:17.785734Z",
     "iopub.status.idle": "2024-04-10T06:03:17.790114Z",
     "shell.execute_reply": "2024-04-10T06:03:17.789145Z",
     "shell.execute_reply.started": "2024-04-10T06:03:17.786009Z"
    }
   },
   "outputs": [],
   "source": [
    "#y_train_one_hot_enc = tf.keras.utils.to_categorical(y_train_seq_padded , vocab_size)"
   ]
  },
  {
   "cell_type": "code",
   "execution_count": null,
   "metadata": {},
   "outputs": [],
   "source": []
  },
  {
   "cell_type": "code",
   "execution_count": null,
   "metadata": {
    "execution": {
     "iopub.execute_input": "2024-04-10T06:03:18.149115Z",
     "iopub.status.busy": "2024-04-10T06:03:18.148737Z",
     "iopub.status.idle": "2024-04-10T06:03:18.172938Z",
     "shell.execute_reply": "2024-04-10T06:03:18.172111Z",
     "shell.execute_reply.started": "2024-04-10T06:03:18.149062Z"
    }
   },
   "outputs": [],
   "source": [
    "model.compile(loss = 'categorical_crossentropy' , optimizer = 'adam')"
   ]
  },
  {
   "cell_type": "code",
   "execution_count": null,
   "metadata": {
    "execution": {
     "iopub.execute_input": "2024-04-10T06:03:18.310235Z",
     "iopub.status.busy": "2024-04-10T06:03:18.309863Z",
     "iopub.status.idle": "2024-04-10T06:04:36.269995Z",
     "shell.execute_reply": "2024-04-10T06:04:36.269093Z",
     "shell.execute_reply.started": "2024-04-10T06:03:18.310195Z"
    }
   },
   "outputs": [],
   "source": [
    "with tf.device('gpu:0'):\n",
    "    model.fit(x_train_seq_padded , tf.one_hot(y_train_seq_padded , vocab_size) , epochs = 25 , batch_size = 16)"
   ]
  },
  {
   "cell_type": "code",
   "execution_count": null,
   "metadata": {
    "execution": {
     "iopub.execute_input": "2024-04-10T06:04:36.272807Z",
     "iopub.status.busy": "2024-04-10T06:04:36.272437Z",
     "iopub.status.idle": "2024-04-10T06:05:50.088584Z",
     "shell.execute_reply": "2024-04-10T06:05:50.087684Z",
     "shell.execute_reply.started": "2024-04-10T06:04:36.272772Z"
    }
   },
   "outputs": [],
   "source": [
    "with tf.device('gpu:0'):\n",
    "    model.fit(x_train_seq_padded , tf.one_hot(y_train_seq_padded , vocab_size) , epochs = 25 , batch_size = 16)"
   ]
  },
  {
   "cell_type": "code",
   "execution_count": null,
   "metadata": {
    "execution": {
     "iopub.execute_input": "2024-04-10T06:06:53.478306Z",
     "iopub.status.busy": "2024-04-10T06:06:53.477607Z",
     "iopub.status.idle": "2024-04-10T06:08:07.125690Z",
     "shell.execute_reply": "2024-04-10T06:08:07.124860Z",
     "shell.execute_reply.started": "2024-04-10T06:06:53.478269Z"
    }
   },
   "outputs": [],
   "source": [
    "with tf.device('gpu:0'):\n",
    "    model.fit(x_train_seq_padded , tf.one_hot(y_train_seq_padded , vocab_size) , epochs = 25 , batch_size = 16)"
   ]
  },
  {
   "cell_type": "code",
   "execution_count": null,
   "metadata": {
    "execution": {
     "iopub.execute_input": "2024-04-10T06:36:32.077952Z",
     "iopub.status.busy": "2024-04-10T06:36:32.077268Z",
     "iopub.status.idle": "2024-04-10T06:37:48.486691Z",
     "shell.execute_reply": "2024-04-10T06:37:48.485759Z",
     "shell.execute_reply.started": "2024-04-10T06:36:32.077917Z"
    }
   },
   "outputs": [],
   "source": [
    "with tf.device('gpu:0'):\n",
    "    model.fit(x_train_seq_padded , tf.one_hot(y_train_seq_padded , vocab_size) , epochs = 25 , batch_size = 16)"
   ]
  },
  {
   "cell_type": "code",
   "execution_count": null,
   "metadata": {
    "execution": {
     "iopub.execute_input": "2024-04-10T06:37:54.417111Z",
     "iopub.status.busy": "2024-04-10T06:37:54.415948Z",
     "iopub.status.idle": "2024-04-10T06:37:56.089767Z",
     "shell.execute_reply": "2024-04-10T06:37:56.088842Z",
     "shell.execute_reply.started": "2024-04-10T06:37:54.417048Z"
    }
   },
   "outputs": [],
   "source": [
    "y_pred = model.predict(x_test_seq_padded)"
   ]
  },
  {
   "cell_type": "code",
   "execution_count": null,
   "metadata": {},
   "outputs": [],
   "source": []
  },
  {
   "cell_type": "code",
   "execution_count": null,
   "metadata": {
    "execution": {
     "iopub.execute_input": "2024-04-10T06:37:56.092146Z",
     "iopub.status.busy": "2024-04-10T06:37:56.091790Z",
     "iopub.status.idle": "2024-04-10T06:37:56.141506Z",
     "shell.execute_reply": "2024-04-10T06:37:56.140544Z",
     "shell.execute_reply.started": "2024-04-10T06:37:56.092114Z"
    }
   },
   "outputs": [],
   "source": [
    "tokenizer.sequences_to_texts(x_test_seq_padded)[0]"
   ]
  },
  {
   "cell_type": "code",
   "execution_count": null,
   "metadata": {
    "execution": {
     "iopub.execute_input": "2024-04-10T06:37:56.271028Z",
     "iopub.status.busy": "2024-04-10T06:37:56.270654Z",
     "iopub.status.idle": "2024-04-10T06:37:56.296985Z",
     "shell.execute_reply": "2024-04-10T06:37:56.296017Z",
     "shell.execute_reply.started": "2024-04-10T06:37:56.270999Z"
    }
   },
   "outputs": [],
   "source": [
    "tokenizer.sequences_to_texts(y_test_seq_padded)[0]"
   ]
  },
  {
   "cell_type": "code",
   "execution_count": null,
   "metadata": {
    "execution": {
     "iopub.execute_input": "2024-04-10T06:37:56.594882Z",
     "iopub.status.busy": "2024-04-10T06:37:56.594051Z",
     "iopub.status.idle": "2024-04-10T06:37:59.984452Z",
     "shell.execute_reply": "2024-04-10T06:37:59.983413Z",
     "shell.execute_reply.started": "2024-04-10T06:37:56.594847Z"
    }
   },
   "outputs": [],
   "source": [
    "output = proc2(tokenizer.sequences_to_texts(np.argmax(y_pred , axis = 1)))"
   ]
  },
  {
   "cell_type": "code",
   "execution_count": null,
   "metadata": {
    "execution": {
     "iopub.execute_input": "2024-04-10T06:37:59.986529Z",
     "iopub.status.busy": "2024-04-10T06:37:59.986222Z",
     "iopub.status.idle": "2024-04-10T06:37:59.992100Z",
     "shell.execute_reply": "2024-04-10T06:37:59.991251Z",
     "shell.execute_reply.started": "2024-04-10T06:37:59.986502Z"
    }
   },
   "outputs": [],
   "source": [
    "\" \".join(output)"
   ]
  },
  {
   "cell_type": "code",
   "execution_count": null,
   "metadata": {
    "execution": {
     "iopub.execute_input": "2024-04-10T06:38:04.638290Z",
     "iopub.status.busy": "2024-04-10T06:38:04.637480Z",
     "iopub.status.idle": "2024-04-10T06:38:04.642403Z",
     "shell.execute_reply": "2024-04-10T06:38:04.641407Z",
     "shell.execute_reply.started": "2024-04-10T06:38:04.638257Z"
    }
   },
   "outputs": [],
   "source": [
    "a = [\"James has played baseball for eight years.\tThis year James is invited to take guitar lessons after school.\tGuitar lessons are on the same day as baseball practice.James chooses not to play baseball this year.\"]"
   ]
  },
  {
   "cell_type": "code",
   "execution_count": null,
   "metadata": {
    "execution": {
     "iopub.execute_input": "2024-04-10T06:38:04.908698Z",
     "iopub.status.busy": "2024-04-10T06:38:04.908318Z",
     "iopub.status.idle": "2024-04-10T06:38:04.913271Z",
     "shell.execute_reply": "2024-04-10T06:38:04.912309Z",
     "shell.execute_reply.started": "2024-04-10T06:38:04.908667Z"
    }
   },
   "outputs": [],
   "source": [
    "x = []\n",
    "for i in a:\n",
    "    x.append([i])"
   ]
  },
  {
   "cell_type": "code",
   "execution_count": null,
   "metadata": {
    "execution": {
     "iopub.execute_input": "2024-04-10T06:38:05.192724Z",
     "iopub.status.busy": "2024-04-10T06:38:05.191968Z",
     "iopub.status.idle": "2024-04-10T06:38:05.198459Z",
     "shell.execute_reply": "2024-04-10T06:38:05.197530Z",
     "shell.execute_reply.started": "2024-04-10T06:38:05.192689Z"
    }
   },
   "outputs": [],
   "source": [
    "x"
   ]
  },
  {
   "cell_type": "code",
   "execution_count": null,
   "metadata": {
    "execution": {
     "iopub.execute_input": "2024-04-10T06:38:05.512326Z",
     "iopub.status.busy": "2024-04-10T06:38:05.511658Z",
     "iopub.status.idle": "2024-04-10T06:38:05.518022Z",
     "shell.execute_reply": "2024-04-10T06:38:05.516899Z",
     "shell.execute_reply.started": "2024-04-10T06:38:05.512289Z"
    }
   },
   "outputs": [],
   "source": [
    "tok = tokenizer.texts_to_sequences([word_tokenize(i[0]) for i in x])"
   ]
  },
  {
   "cell_type": "code",
   "execution_count": null,
   "metadata": {
    "execution": {
     "iopub.execute_input": "2024-04-10T06:38:06.000429Z",
     "iopub.status.busy": "2024-04-10T06:38:05.999574Z",
     "iopub.status.idle": "2024-04-10T06:38:06.004474Z",
     "shell.execute_reply": "2024-04-10T06:38:06.003566Z",
     "shell.execute_reply.started": "2024-04-10T06:38:06.000395Z"
    }
   },
   "outputs": [],
   "source": [
    "x_ = pad_sequences(tok , max_pad)"
   ]
  },
  {
   "cell_type": "code",
   "execution_count": null,
   "metadata": {
    "execution": {
     "iopub.execute_input": "2024-04-10T06:42:54.958212Z",
     "iopub.status.busy": "2024-04-10T06:42:54.957828Z",
     "iopub.status.idle": "2024-04-10T06:42:55.037855Z",
     "shell.execute_reply": "2024-04-10T06:42:55.037113Z",
     "shell.execute_reply.started": "2024-04-10T06:42:54.958181Z"
    }
   },
   "outputs": [],
   "source": [
    "y_ = (tokenizer.sequences_to_texts(np.argmax(model.predict(x_) , axis = 1)))"
   ]
  },
  {
   "cell_type": "code",
   "execution_count": null,
   "metadata": {
    "execution": {
     "iopub.execute_input": "2024-04-10T06:42:56.494180Z",
     "iopub.status.busy": "2024-04-10T06:42:56.493223Z",
     "iopub.status.idle": "2024-04-10T06:42:56.500283Z",
     "shell.execute_reply": "2024-04-10T06:42:56.499394Z",
     "shell.execute_reply.started": "2024-04-10T06:42:56.494142Z"
    }
   },
   "outputs": [],
   "source": [
    " \" \".join(y_)"
   ]
  },
  {
   "cell_type": "code",
   "execution_count": null,
   "metadata": {},
   "outputs": [],
   "source": []
  },
  {
   "cell_type": "code",
   "execution_count": null,
   "metadata": {},
   "outputs": [],
   "source": []
  }
 ],
 "metadata": {
  "kaggle": {
   "accelerator": "gpu",
   "dataSources": [
    {
     "datasetId": 4767828,
     "sourceId": 8078544,
     "sourceType": "datasetVersion"
    }
   ],
   "dockerImageVersionId": 30684,
   "isGpuEnabled": true,
   "isInternetEnabled": true,
   "language": "python",
   "sourceType": "notebook"
  },
  "kernelspec": {
   "display_name": "Python 3 (ipykernel)",
   "language": "python",
   "name": "python3"
  },
  "language_info": {
   "codemirror_mode": {
    "name": "ipython",
    "version": 3
   },
   "file_extension": ".py",
   "mimetype": "text/x-python",
   "name": "python",
   "nbconvert_exporter": "python",
   "pygments_lexer": "ipython3",
   "version": "3.9.13"
  }
 },
 "nbformat": 4,
 "nbformat_minor": 4
}
